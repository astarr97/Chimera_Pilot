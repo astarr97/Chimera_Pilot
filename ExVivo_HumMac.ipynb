{
 "cells": [
  {
   "cell_type": "code",
   "execution_count": null,
   "id": "d7e87509",
   "metadata": {},
   "outputs": [],
   "source": [
    "import seaborn as sns\n",
    "import numpy as np\n",
    "import pandas as pd\n",
    "import math\n",
    "import matplotlib.pyplot as plt\n",
    "import os\n",
    "from matplotlib.pyplot import figure\n",
    "from collections import Counter\n",
    "from scipy.stats import spearmanr,pearsonr,fisher_exact,binom_test"
   ]
  },
  {
   "cell_type": "code",
   "execution_count": null,
   "id": "0e9f5e6a",
   "metadata": {},
   "outputs": [],
   "source": [
    "imp_conf_list = []\n",
    "o = open(\"Human_imprinted_genes.txt\")\n",
    "for line in o:\n",
    "    l = line.replace(\"\\xa0\", \"\").replace(\"\\n\", \"\").split(\"\\t\")\n",
    "    if (\"Imprinted\" in l[3] or \"Predicted\" in l[3]) and \"Not\" not in l[3]:\n",
    "        imp_conf_list.append(l)\n",
    "        \n",
    "df_imp_info = pd.DataFrame(imp_conf_list)\n",
    "df_imp_info"
   ]
  },
  {
   "cell_type": "code",
   "execution_count": null,
   "id": "ee5e419a",
   "metadata": {},
   "outputs": [],
   "source": [
    "#This data is TPM normalized\n",
    "v = pd.read_csv(\"Final/Div_AbsDif/GSE155381_CM_CH_gene_expression.txt\", sep = \"\\t\")\n",
    "v = v.set_index(\"Gene.ID\").T\n",
    "\n",
    "k = pd.read_csv(\"Final/Div_AbsDif/Annotations.txt\", sep = \",\")\n",
    "bleh = pd.read_csv(\"Final/Div_AbsDif/Cell_Key.txt\", sep = \"\\t\", header = None).set_index(0)\n",
    "kn = bleh.join(k.set_index(\"Sample Name\"))"
   ]
  },
  {
   "cell_type": "code",
   "execution_count": null,
   "id": "e8310525",
   "metadata": {},
   "outputs": [],
   "source": [
    "kn = kn.set_index(1)\n",
    "v = v.join(kn)\n",
    "v_m = v[v[\"Organism\"].isin([\"Macaca fascicularis\"])]\n",
    "v_h = v[v[\"Organism\"].isin([\"Homo sapiens\"])]"
   ]
  },
  {
   "cell_type": "code",
   "execution_count": null,
   "id": "45cea958",
   "metadata": {},
   "outputs": [],
   "source": [
    "orths = pd.read_csv(\"Orthos_HS_MF.txt\", sep = \"\\t\").set_index(\"Crab-eating macaque gene stable ID\").dropna()\n",
    "orths = orths[orths[\"Crab-eating macaque homology type\"].isin([\"ortholog_one2one\"])]\n",
    "orths = orths.drop_duplicates(\"Gene name\")\n"
   ]
  },
  {
   "cell_type": "code",
   "execution_count": null,
   "id": "a2b50322",
   "metadata": {},
   "outputs": [],
   "source": [
    "v_m = v_m.T\n",
    "v_m = v_m.join(orths)\n",
    "out = []\n",
    "for index, row in v_m.iterrows():\n",
    "    if \"ENSG\" not in index:\n",
    "        out.append(row)\n",
    "v_m_new = pd.DataFrame(out)\n"
   ]
  },
  {
   "cell_type": "code",
   "execution_count": null,
   "id": "fe35a807",
   "metadata": {},
   "outputs": [],
   "source": [
    "v_m_new = v_m_new[~v_m_new[\"Crab-eating macaque gene name\"].isin([float(\"nan\")])]\n",
    "v_m_new.index = v_m_new[\"Gene stable ID\"]\n",
    "v_h = v_h.T\n",
    "to_analyze = v_h.join(v_m_new).dropna(subset = [\"Gene name\"])\n",
    "to_analyze"
   ]
  },
  {
   "cell_type": "code",
   "execution_count": null,
   "id": "d1f0680d",
   "metadata": {},
   "outputs": [],
   "source": [
    "to_analyze = to_analyze.T\n",
    "to_analyze = to_analyze.join(kn)\n"
   ]
  },
  {
   "cell_type": "code",
   "execution_count": null,
   "id": "37707fb5",
   "metadata": {},
   "outputs": [],
   "source": [
    "cts = ['EPI', 'PE', 'TE', 'EXMC']\n",
    "ta_m = to_analyze[to_analyze[\"Organism\"].isin([\"Macaca fascicularis\"])]\n",
    "ta_h = to_analyze[to_analyze[\"Organism\"].isin([\"Homo sapiens\"])]\n",
    "ta_m_epi = ta_m[ta_m[\"lineage\"].isin([\"EPI\"])]\n",
    "ta_h_epi = ta_h[ta_h[\"lineage\"].isin([\"EPI\"])]\n",
    "ta_h_epi"
   ]
  },
  {
   "cell_type": "code",
   "execution_count": null,
   "id": "0f754992",
   "metadata": {},
   "outputs": [],
   "source": [
    "ta_h = ta_h_epi.T\n",
    "ta_m = ta_m_epi.T\n",
    "out_h = []\n",
    "out_m = []\n",
    "for index, row in ta_h.iterrows():\n",
    "    if \"ENSG\" in index:\n",
    "        out_h.append([index, np.mean(row)])\n",
    "for index, row in ta_m.iterrows():\n",
    "    if \"ENSG\" in index:\n",
    "        out_m.append([index, np.mean(row)])"
   ]
  },
  {
   "cell_type": "code",
   "execution_count": null,
   "id": "68ef9e20",
   "metadata": {},
   "outputs": [],
   "source": [
    "df_h = pd.DataFrame(out_h).set_index(0)\n",
    "df_h.columns = [\"Mean counts human\"]\n",
    "df_m = pd.DataFrame(out_m).set_index(0)\n",
    "df_m.columns = [\"Mean counts mac\"]\n",
    "df = df_h.join(df_m)\n"
   ]
  },
  {
   "cell_type": "code",
   "execution_count": null,
   "id": "b2342a41",
   "metadata": {},
   "outputs": [],
   "source": [
    "orths_new = orths.set_index(\"Gene stable ID\")\n",
    "df[\"l2fc\"] = np.log2((1+df[\"Mean counts human\"])/(1+df[\"Mean counts mac\"]))\n",
    "df = df.sort_values(\"l2fc\")\n",
    "df = df.join(orths_new).drop_duplicates(subset=[\"Gene name\"])\n",
    "df = df[(df[\"Mean counts human\"] > 1) | (df[\"Mean counts mac\"] > 1)]"
   ]
  },
  {
   "cell_type": "code",
   "execution_count": null,
   "id": "28146a63",
   "metadata": {},
   "outputs": [],
   "source": [
    "#Renormalize so that they both sum to 1,000,000\n",
    "df[\"Mean normed mac\"] = df[\"Mean counts mac\"]/np.sum(df[\"Mean counts mac\"])*1000000\n",
    "df[\"Mean normed human\"] = df[\"Mean counts human\"]/np.sum(df[\"Mean counts human\"])*1000000\n",
    "df[\"l2fc normed\"] = np.log2((1+df[\"Mean normed human\"])/(1+df[\"Mean normed mac\"]))\n"
   ]
  },
  {
   "cell_type": "code",
   "execution_count": null,
   "id": "051d9aad",
   "metadata": {},
   "outputs": [],
   "source": [
    "import gseapy as gs\n",
    "d_imp = {\"Imprinted\":list(df_imp_info[0])}\n",
    "d_imp2 = {\"Paternal\":list(df_imp_info[df_imp_info[4].isin([\"Paternal\"])][0]), \"Maternal\":list(df_imp_info[df_imp_info[4].isin([\"Maternal\"])][0])}\n",
    "\n",
    "df[\"Abs l2fc normed\"] = np.abs(df[\"l2fc normed\"])\n",
    "df = df.sort_values(\"Abs l2fc normed\", ascending = False)\n",
    "ranking = df[[\"Gene name\", \"Abs l2fc normed\"]]\n",
    "ranking.index = list(range(df.shape[0]))\n",
    "rank = True\n",
    "if rank:\n",
    "    front_half = list(range(1, ranking.shape[0]//2+1))\n",
    "    front_half.sort(reverse=True)\n",
    "    back_half = [-x for x in range(1, ranking.shape[0]//2+1)]\n",
    "    if ranking.shape[0] % 2 == 0:\n",
    "        ranking[\"Abs l2fc normed\"] = front_half + back_half\n",
    "    else:\n",
    "        ranking[\"Abs l2fc normed\"] = front_half + [0] + back_half\n",
    "gs.prerank(rnk=ranking, gene_sets=d_imp, threads=4, permutation_num=1000, outdir= 'C:/Users/astar/Chimerism/Final/GSEAPY_New4_Imprinting_HumMac/' + \"EPI_Human_Macaque_Test\", format='png', seed=6, min_size = 10, max_size = 30000)\n"
   ]
  },
  {
   "cell_type": "code",
   "execution_count": null,
   "id": "5f59b970",
   "metadata": {},
   "outputs": [],
   "source": [
    "df = df.sort_values(\"l2fc normed\", ascending = False)\n",
    "ranking = df[[\"Gene name\", \"l2fc normed\"]]\n",
    "ranking.index = list(range(df.shape[0]))\n",
    "gs.prerank(rnk=ranking, gene_sets=d_imp2, threads=4, permutation_num=1000, outdir= 'C:/Users/astar/Chimerism/Final/GSEAPY_New4_Imprinting_HumMac/' + \"EPI_Human_Macaque_Signed\", format='png', seed=6, min_size = 10, max_size = 30000)\n"
   ]
  },
  {
   "cell_type": "code",
   "execution_count": null,
   "id": "85954240",
   "metadata": {},
   "outputs": [],
   "source": [
    "human_only = pd.read_csv(\"Final/Div_AbsDif/GSE109555_All_Embryo_TPM.txt\", sep = \"\\t\")\n",
    "human_only_epi = human_only.T[(human_only.T[\"POU5F1\"] > 1) | (human_only.T[\"NANOG\"] > 1) | (human_only.T[\"SOX2\"] > 1)].T\n",
    "human_only_mean = pd.DataFrame(human_only_epi.apply(np.mean, axis = 1))\n",
    "human_only_mean.columns = [\"Human only measurement\"]"
   ]
  },
  {
   "cell_type": "code",
   "execution_count": null,
   "id": "370d90a5",
   "metadata": {},
   "outputs": [],
   "source": [
    "df[\"Human ensembl\"] = df.index\n",
    "df.index = df[\"Gene name\"]\n",
    "dff = df.join(human_only_mean)\n",
    "dff = dff.dropna()"
   ]
  },
  {
   "cell_type": "code",
   "execution_count": null,
   "id": "bfe44ed2",
   "metadata": {},
   "outputs": [],
   "source": [
    "dff[\"Human only normed\"] = dff[\"Human only measurement\"]/np.sum(dff[\"Human only measurement\"])*1000000"
   ]
  },
  {
   "cell_type": "code",
   "execution_count": null,
   "id": "d61b0df8",
   "metadata": {},
   "outputs": [],
   "source": [
    "print(spearmanr(dff[\"Mean counts human\"], dff[\"Human only measurement\"]))"
   ]
  },
  {
   "cell_type": "code",
   "execution_count": null,
   "id": "6c768499",
   "metadata": {},
   "outputs": [],
   "source": [
    "dff[\"Human l2fc normed\"] = np.log2((dff[\"Mean normed human\"] + 1)/(dff[\"Human only normed\"] + 1))\n",
    "dff_imp = dff.loc[np.intersect1d(dff.index, df_imp_info[0])]\n",
    "dff_imp.sort_values(\"Human l2fc normed\")"
   ]
  },
  {
   "cell_type": "code",
   "execution_count": null,
   "id": "37038b7c",
   "metadata": {},
   "outputs": [],
   "source": [
    "import gseapy as gs\n",
    "d_imp = {\"Imprinted\":list(df_imp_info[0])}\n",
    "d_imp2 = {\"Paternal\":list(df_imp_info[df_imp_info[4].isin([\"Paternal\"])][0]), \"Maternal\":list(df_imp_info[df_imp_info[4].isin([\"Maternal\"])][0])}\n",
    "\n",
    "rank = True\n",
    "\n",
    "\n",
    "dff[\"Abs l2fc normed\"] = np.abs(dff[\"Human l2fc normed\"])\n",
    "dff = dff.sort_values(\"Abs l2fc normed\", ascending = False)\n",
    "ranking = dff[[\"Gene name\", \"Abs l2fc normed\"]]\n",
    "ranking.index = list(range(ranking.shape[0]))\n",
    "\n",
    "if rank:\n",
    "    front_half = list(range(1, ranking.shape[0]//2+1))\n",
    "    front_half.sort(reverse=True)\n",
    "    back_half = [-x for x in range(1, ranking.shape[0]//2+1)]\n",
    "    if ranking.shape[0] % 2 == 0:\n",
    "        ranking[\"Abs l2fc normed\"] = front_half + back_half\n",
    "    else:\n",
    "        ranking[\"Abs l2fc normed\"] = front_half + [0] + back_half\n",
    "\n",
    "gs.prerank(rnk=ranking, gene_sets=d_imp, threads=4, permutation_num=1000, outdir= 'C:/Users/astar/Chimerism/Final/GSEAPY_New4_Imprinting_HumMac/' + \"EPI_Human_HumanOnly_Test\", format='png', seed=6, min_size = 10, max_size = 30000)\n"
   ]
  },
  {
   "cell_type": "code",
   "execution_count": null,
   "id": "3fae2315",
   "metadata": {},
   "outputs": [],
   "source": [
    "#Making Figure 6I\n",
    "sns.set(font_scale = 1.5)\n",
    "sns.set_style(\"white\")\n",
    "tp = pd.DataFrame([[6.514151, \"Macaque\", \"Macaque-like env.\"], [67.777017, \"Human\", \"Macaque-like env.\"], [1.791428, \"Human\", \"Human-like env.\"]])\n",
    "tp.columns = [\"Transcripts per million\", \"Cell species\", \"Extrinsic environment\"]\n",
    "sns.barplot(data = tp, x = \"Extrinsic environment\", y = \"Transcripts per million\", hue = \"Cell species\", palette = {\"Macaque\":\"#B06C1B\", \"Human\":\"#149B53\"})\n",
    "plt.title(\"$\\it{PLAGL1}$ expression in epiblast\")\n",
    "plt.legend(frameon=False)"
   ]
  }
 ],
 "metadata": {
  "kernelspec": {
   "display_name": "Python 3 (ipykernel)",
   "language": "python",
   "name": "python3"
  },
  "language_info": {
   "codemirror_mode": {
    "name": "ipython",
    "version": 3
   },
   "file_extension": ".py",
   "mimetype": "text/x-python",
   "name": "python",
   "nbconvert_exporter": "python",
   "pygments_lexer": "ipython3",
   "version": "3.11.4"
  }
 },
 "nbformat": 4,
 "nbformat_minor": 5
}
