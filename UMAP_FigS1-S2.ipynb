{
 "cells": [
  {
   "cell_type": "code",
   "execution_count": null,
   "id": "c6b1143a",
   "metadata": {},
   "outputs": [],
   "source": [
    "import scanpy as sc\n",
    "from matplotlib import pyplot as plt\n",
    "import anndata"
   ]
  },
  {
   "cell_type": "code",
   "execution_count": null,
   "id": "0403b3cf",
   "metadata": {
    "scrolled": true
   },
   "outputs": [],
   "source": [
    "#Read in anndata objects\n",
    "ac = sc.read(\"Final/All_Cells_Start.h5ad\")\n",
    "bc = sc.read(\"Final/Brain_Subclustered_Prelim.h5ad\")\n",
    "cc = sc.read(\"Final/Chondrocyte_Subclustered_Prelim.h5ad\")\n",
    "mc = sc.read(\"Final/Mesenchymal_Subclustered_Prelim.h5ad\")"
   ]
  },
  {
   "cell_type": "code",
   "execution_count": null,
   "id": "8f313634",
   "metadata": {},
   "outputs": [],
   "source": [
    "#Plot umap with gene colors\n",
    "sc.pl.umap(mc, color=['leiden', 'Postn', 'Prrx1'])"
   ]
  },
  {
   "cell_type": "code",
   "execution_count": null,
   "id": "042a9bc0",
   "metadata": {},
   "outputs": [],
   "source": [
    "#Replace my cell names with those used in the paper\n",
    "cell_names = []\n",
    "for index, row in bc.obs.iterrows():\n",
    "    if row[\"leiden\"] in excit:\n",
    "        cell_names.append(\"Forebrain glutamatergic neurons\")\n",
    "    elif row[\"leiden\"] in inhib:\n",
    "        cell_names.append(\"Forebrain GABAergic neurons\")\n",
    "    elif row[\"leiden\"] in exc_prog:\n",
    "        cell_names.append(\"Forebrain glutamategic progenitors\")\n",
    "    elif row[\"leiden\"] in inh_prog:\n",
    "        cell_names.append(\"Forebrain GABAergic progenitors\")\n",
    "    elif row[\"leiden\"] in inter_prog:\n",
    "        cell_names.append(\"Intermediate progenitors\")\n",
    "    elif row[\"leiden\"] in spinal_excit:\n",
    "        cell_names.append(\"Spinal glutamatergic neurons\")\n",
    "    elif row[\"leiden\"] in spinal_inhib:\n",
    "        cell_names.append(\"Spinal GABAergic neurons\")\n",
    "    else:\n",
    "        cell_names.append(\"Other\")"
   ]
  },
  {
   "cell_type": "code",
   "execution_count": null,
   "id": "e8b4b17d",
   "metadata": {},
   "outputs": [],
   "source": [
    "#Make cell type names\n",
    "bc.obs[\"Cell type\"] = cell_names"
   ]
  },
  {
   "cell_type": "code",
   "execution_count": null,
   "id": "7cbeef1c",
   "metadata": {},
   "outputs": [],
   "source": [
    "excit = [\"0\", \"5\"]\n",
    "inhib = [\"1\", \"3\", \"9\"]\n",
    "exc_prog = [\"4\"]\n",
    "inh_prog = [\"2\"]\n",
    "inter_prog = [\"10\"]\n",
    "spinal_excit = [\"6\"]\n",
    "spinal_inhib = [\"7\"]\n",
    "plt.rcParams.update({'font.size': '18'})\n",
    "#Make umap of clusters only\n",
    "sc.pl.umap(bc, color=['Cell type'], palette = \"tab10\", title = \"Nervous system cell types\")\n"
   ]
  },
  {
   "cell_type": "code",
   "execution_count": null,
   "id": "b06b94ab",
   "metadata": {},
   "outputs": [],
   "source": [
    "#Make umap of gene expression for marker genes\n",
    "plt.rcParams.update({'font.size': '22'})\n",
    "sc.pl.umap(bc, color=['Slc17a6', 'Gad1', 'Tcf7l2', 'Hoxb8', 'Gli3', 'Mki67', 'Eomes', 'Reln'], palette = \"Viridis\", title = [\"$\\it{\" + x + \"}$\" for x in ['Slc17a6', 'Gad1', 'Tcf7l2', 'Hoxb8', 'Gli3', 'Mki67', 'Eomes', 'Reln']])\n"
   ]
  },
  {
   "cell_type": "code",
   "execution_count": null,
   "id": "e0bfe2ee",
   "metadata": {},
   "outputs": [],
   "source": [
    "#Rename for chondrocytes \n",
    "cts_cc = []\n",
    "for index, row in cc.obs.iterrows():\n",
    "    if row[\"leiden\"] == \"0\":\n",
    "        cts_cc.append(\"Chondrocytes\")\n",
    "    elif row[\"leiden\"] == \"1\":\n",
    "        cts_cc.append(\"Chondrocyte progenitors\")\n",
    "    elif row[\"leiden\"] == \"2\":\n",
    "        cts_cc.append(\"Other chondrocytes\")\n",
    "cc.obs[\"Cell type\"] = cts_cc"
   ]
  },
  {
   "cell_type": "code",
   "execution_count": null,
   "id": "90c24a88",
   "metadata": {},
   "outputs": [],
   "source": [
    "#Rename for mesenchyme\n",
    "cts_mc = []\n",
    "for index, row in mc.obs.iterrows():\n",
    "    if row[\"leiden\"] == \"0\":\n",
    "        cts_mc.append(\"Mesenchyme 0\")\n",
    "    elif row[\"leiden\"] == \"1\":\n",
    "        cts_mc.append(\"Other mesenchyme\")\n",
    "    elif row[\"leiden\"] == \"2\":\n",
    "        cts_mc.append(\"Cycling mesenchyme\")\n",
    "    elif row[\"leiden\"] == \"3\":\n",
    "        cts_mc.append(\"Mesenchyme 2\")\n",
    "    else:\n",
    "        cts_mc.append(\"Other mesenchyme\")\n",
    "mc.obs[\"Cell type\"] = cts_mc"
   ]
  },
  {
   "cell_type": "code",
   "execution_count": null,
   "id": "82e0e37b",
   "metadata": {},
   "outputs": [],
   "source": [
    "#Plot for chondrocytes, cell type only\n",
    "plt.rcParams.update({'font.size': '16'})\n",
    "sc.pl.umap(cc, color=['Cell type'], title = \"Chondrocytes\", palette = {\"Chondrocyte progenitors\":\"black\", \"Other chondrocytes\":\"grey\", \"Chondrocytes\":\"red\"})\n"
   ]
  },
  {
   "cell_type": "code",
   "execution_count": null,
   "id": "5d773ae3",
   "metadata": {},
   "outputs": [],
   "source": [
    "#Plot for mesenchyme, cell type only\n",
    "plt.rcParams.update({'font.size': '16'})\n",
    "sc.pl.umap(mc, color=['Cell type'], title = \"Mesenchymal cells\", palette = {\"Cycling mesenchyme\":\"magenta\", \"Mesenchyme 0\":\"teal\", \"Mesenchyme 2\":\"yellow\", \"Other mesenchyme\":\"grey\"})\n"
   ]
  },
  {
   "cell_type": "code",
   "execution_count": null,
   "id": "26ff80e4",
   "metadata": {},
   "outputs": [],
   "source": [
    "#Plot markers for chondrocytes\n",
    "plt.rcParams.update({'font.size': '18'})\n",
    "sc.pl.umap(cc, color=['Mki67', 'Acan'], title = [\"$\\it{Mki67}$\", \"$\\it{Acan}$\"])"
   ]
  },
  {
   "cell_type": "code",
   "execution_count": null,
   "id": "0d2645e6",
   "metadata": {},
   "outputs": [],
   "source": [
    "#Plot markers for mesenchyme\n",
    "plt.rcParams.update({'font.size': '18'})\n",
    "sc.pl.umap(mc, color=['Mki67', 'Prrx1'], title = [\"$\\it{Mki67}$\", \"$\\it{Prrx1}$\"])"
   ]
  },
  {
   "cell_type": "code",
   "execution_count": null,
   "id": "9d730a45",
   "metadata": {},
   "outputs": [],
   "source": [
    "#Not used\n",
    "sc.pl.umap(mc, color=['leiden'], title = \"Connective tissue cell types\")"
   ]
  },
  {
   "cell_type": "code",
   "execution_count": null,
   "id": "58262356",
   "metadata": {},
   "outputs": [],
   "source": []
  }
 ],
 "metadata": {
  "kernelspec": {
   "display_name": "Python 3 (ipykernel)",
   "language": "python",
   "name": "python3"
  },
  "language_info": {
   "codemirror_mode": {
    "name": "ipython",
    "version": 3
   },
   "file_extension": ".py",
   "mimetype": "text/x-python",
   "name": "python",
   "nbconvert_exporter": "python",
   "pygments_lexer": "ipython3",
   "version": "3.11.4"
  }
 },
 "nbformat": 4,
 "nbformat_minor": 5
}
